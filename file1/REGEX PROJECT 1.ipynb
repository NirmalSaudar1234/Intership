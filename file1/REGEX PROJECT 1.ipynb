{
 "cells": [
  {
   "cell_type": "code",
   "execution_count": 1,
   "id": "d64c2e55",
   "metadata": {},
   "outputs": [
    {
     "name": "stdout",
     "output_type": "stream",
     "text": [
      ":my:name:is:nirmal::i:am:a:data:scientist::\n"
     ]
    }
   ],
   "source": [
    "# Question 1- Write a Python program to replace all occurrences of a space, comma, or dot with a colon.\n",
    "\n",
    "import pandas as pd\n",
    "import re\n",
    "\n",
    "example = ' my name is nirmal, i am a data scientist. '\n",
    "\n",
    "output = re.sub (r'[ ,.]',':',example)\n",
    "\n",
    "print(output)"
   ]
  },
  {
   "cell_type": "code",
   "execution_count": 2,
   "id": "ca045d89",
   "metadata": {},
   "outputs": [
    {
     "name": "stdout",
     "output_type": "stream",
     "text": [
      "         SUMMARY\n",
      "0    hello world\n",
      "1     XXXXX test\n",
      "2  four five six\n"
     ]
    }
   ],
   "source": [
    "# Question 2-  Create a dataframe using the dictionary below and remove everything (commas (,), !, XXXX, ;, etc.) \n",
    "# from the columns except words.\n",
    "\n",
    "dictionary1 = {'SUMMARY': ['hello, world!', 'XXXXX test', '123four, five:; six...']}\n",
    "\n",
    "define = pd.DataFrame(dictionary1)\n",
    "\n",
    "define['SUMMARY'] = define['SUMMARY'].str.replace('[^a-zA-Z\\s]', '',regex=True)\n",
    "\n",
    "print(define)\n",
    "\n"
   ]
  },
  {
   "cell_type": "code",
   "execution_count": 3,
   "id": "d19260f3",
   "metadata": {},
   "outputs": [
    {
     "name": "stdout",
     "output_type": "stream",
     "text": [
      "['learning', 'python', 'very', 'interesting', 'must', 'work', 'hard', 'learn']\n"
     ]
    }
   ],
   "source": [
    "# Question 3- Create a function in python to find all words that are at least 4 characters long in a string. \n",
    "# The use of the re.compile() method is mandatory.\n",
    " \n",
    "def give_4(input_text):\n",
    "  pattern = re.compile(r'\\b\\w{4,}\\b')\n",
    "  Output = pattern.findall(input_text)\n",
    "  return Output\n",
    "\n",
    "\n",
    "input_text = \" learning python is very interesting but you can must work hard to learn it \"\n",
    "\n",
    "answer = give_4(input_text)\n",
    "\n",
    "print(answer)"
   ]
  },
  {
   "cell_type": "code",
   "execution_count": 4,
   "id": "6315bfe2",
   "metadata": {},
   "outputs": [
    {
     "name": "stdout",
     "output_type": "stream",
     "text": [
      "['very', 'but', 'you', 'can', 'must', 'work', 'hard', 'learn']\n"
     ]
    }
   ],
   "source": [
    "# Question 4- Create a function in python to find all three, four, and five character words in a string. \n",
    "# The use of the re.compile() method is mandatory.\n",
    "\n",
    "def give_3to5(input_text):\n",
    "  pattern = re.compile(r'\\b\\w{3,5}\\b')\n",
    "  Output = pattern.findall(input_text)\n",
    "  return Output\n",
    "\n",
    "\n",
    "input_text = \" learning python is very interesting but you can must work hard to learn it \"\n",
    "\n",
    "answer = give_3to5(input_text)\n",
    "\n",
    "print(answer)"
   ]
  },
  {
   "cell_type": "code",
   "execution_count": 5,
   "id": "846f629f",
   "metadata": {},
   "outputs": [
    {
     "name": "stdout",
     "output_type": "stream",
     "text": [
      "example \n",
      "hr@fliprobo \n",
      "github \n",
      "Hello \n",
      "Data \n"
     ]
    }
   ],
   "source": [
    "# Question 5- Create a function in Python to remove the parenthesis in a list of strings. \n",
    "# The use of the re.compile() method is mandatory.\n",
    "\n",
    "import re\n",
    "\n",
    "def remove_parenthesis(text):\n",
    "    \n",
    "    removal = re.compile(r'\\((.*?)\\)')\n",
    "\n",
    "    for i in range(len(text)):\n",
    "        \n",
    "        text[i] = re.sub(removal, '', text[i])\n",
    "\n",
    "    return text\n",
    "\n",
    "\n",
    "text = [\"example (.com)\", \"hr@fliprobo (.com)\", \"github (.com)\", \"Hello (Data Science World)\", \"Data (Scientist)\"]\n",
    "\n",
    "\n",
    "output = remove_parenthesis(text)\n",
    "\n",
    "for s in output:\n",
    "    print(s)\n"
   ]
  },
  {
   "cell_type": "code",
   "execution_count": 6,
   "id": "4c215835",
   "metadata": {},
   "outputs": [
    {
     "name": "stdout",
     "output_type": "stream",
     "text": [
      "example \n",
      "hr@fliprobo \n",
      "github \n",
      "Hello \n",
      "Data \n"
     ]
    }
   ],
   "source": [
    "# Question 6- Write a python program to remove the parenthesis area from the text stored \n",
    "# in the text file using Regular Expression.\n",
    "\n",
    "import re\n",
    "\n",
    "def remove_parenthesis(text):\n",
    "    \n",
    "    removal = re.compile(r'\\([^()]*\\)')\n",
    "\n",
    "    for i in range(len(text)):\n",
    "        \n",
    "        text[i] = re.sub(removal, '', text[i])\n",
    "\n",
    "    return text\n",
    "\n",
    "\n",
    "text = [\"example (.com)\", \"hr@fliprobo (.com)\", \"github (.com)\", \"Hello (Data Science World)\", \"Data (Scientist)\"]\n",
    "\n",
    "\n",
    "output = remove_parenthesis(text)\n",
    "\n",
    "for s in output:\n",
    "    print(s)\n"
   ]
  },
  {
   "cell_type": "code",
   "execution_count": 7,
   "id": "80360103",
   "metadata": {},
   "outputs": [
    {
     "name": "stdout",
     "output_type": "stream",
     "text": [
      "['India', 'America', 'Japan', 'China', 'Brazil']\n"
     ]
    }
   ],
   "source": [
    "# Question 7- Write a regular expression in Python to split a string into uppercase letters.\n",
    "# Sample text: “ImportanceOfRegularExpressionsInPython”\n",
    "\n",
    "\n",
    "text= \"IndiaAmericaJapanChinaBrazil\" \n",
    "upper_case = [s for s in re.split(\"([A-Z][^A-Z]*)\", text) if s]  \n",
    "print(upper_case) "
   ]
  },
  {
   "cell_type": "code",
   "execution_count": 8,
   "id": "f15f7245",
   "metadata": {},
   "outputs": [
    {
     "name": "stdout",
     "output_type": "stream",
     "text": [
      "1Apple 2Banana 3Custardapple 4Dragonfruit\n"
     ]
    }
   ],
   "source": [
    "# Question 8- Create a function in python to insert spaces between words starting with numbers.\n",
    "\n",
    "def space_upper(input):\n",
    "    words = re.findall('\\w[a-zA-Z]*', input)     \n",
    "    print(' '.join(words))  \n",
    "      \n",
    "input = '1Apple2Banana3Custardapple4Dragonfruit' \n",
    "space_upper(input)"
   ]
  },
  {
   "cell_type": "code",
   "execution_count": 9,
   "id": "8fab7516",
   "metadata": {},
   "outputs": [
    {
     "name": "stdout",
     "output_type": "stream",
     "text": [
      "Regular Expression 1 Is An 2 Important Topic 3 In Python\n"
     ]
    }
   ],
   "source": [
    "# Question 9- Create a function in python to insert spaces between words starting with capital letters or with numbers.\n",
    "def Insert_space(string):\n",
    "    words = re.findall(r\"[0-9]|[A-Z][a-z]*\", string)\n",
    "    print(' '.join(words))  \n",
    "\n",
    "Insert_space(\"RegularExpression1IsAn2ImportantTopic3InPython\")"
   ]
  },
  {
   "cell_type": "code",
   "execution_count": 10,
   "id": "aae7c20a",
   "metadata": {},
   "outputs": [
    {
     "name": "stdout",
     "output_type": "stream",
     "text": [
      "0      Switze\n",
      "1      Icelan\n",
      "2      Denmar\n",
      "3      Norway\n",
      "4      Canada\n",
      "        ...  \n",
      "153    Rwanda\n",
      "154     Benin\n",
      "155     Syria\n",
      "156    Burund\n",
      "157      Togo\n",
      "Name: first_five_letters, Length: 158, dtype: object\n"
     ]
    }
   ],
   "source": [
    "# Question 10- Use the github link below to read the data and create a dataframe. \n",
    " # After creating the dataframe extract the first 6 letters of each country and \n",
    "# store in the dataframe under a new column called first_five_letters.\n",
    "# Github Link-  https://raw.githubusercontent.com/dsrscientist/DSData/master/happiness_score_dataset.csv\n",
    "\n",
    "import pandas as pd\n",
    "\n",
    "url = \"https://raw.githubusercontent.com/dsrscientist/DSData/master/happiness_score_dataset.csv\"\n",
    "df = pd.read_csv(url)\n",
    "\n",
    "df['first_five_letters'] = df['Country'].apply(lambda x: x[0:6])\n",
    "\n",
    "print(df['first_five_letters'])\n",
    "\n"
   ]
  },
  {
   "cell_type": "code",
   "execution_count": 11,
   "id": "5a05d2b9",
   "metadata": {},
   "outputs": [
    {
     "name": "stdout",
     "output_type": "stream",
     "text": [
      "['Nirmal_12345', 'Saudar_8511']\n",
      "Found a match!\n",
      "\n"
     ]
    }
   ],
   "source": [
    "# Question 11- Write a Python program to match a string that contains only upper and lowercase letters, numbers, and underscores.\n",
    "\n",
    "def text_match(text):\n",
    "    patterns = '[a-zA-Z]+[0-9_]+'   \n",
    "    x=re.findall(patterns,  text) \n",
    "    if x:                 \n",
    "        print(x)                 \n",
    "        return 'Found a match!\\n'        \n",
    "    else:                 \n",
    "        return('Not matched!')  \n",
    "    \n",
    "print(text_match(\"Nirmal_12345 Saudar_8511\")) \n"
   ]
  },
  {
   "cell_type": "code",
   "execution_count": 12,
   "id": "dcd7950c",
   "metadata": {},
   "outputs": [
    {
     "name": "stdout",
     "output_type": "stream",
     "text": [
      "True\n",
      "False\n"
     ]
    }
   ],
   "source": [
    "# Question 12- Write a Python program where a string will start with a specific number. \n",
    "\n",
    "def search_nu(str1):    \n",
    "    text = re.compile(r\"^98\")\n",
    "    if text.match(str1):\n",
    "        return True     \n",
    "    else:         \n",
    "        return False\n",
    "\n",
    "print(search_nu('9823764084')) \n",
    "print(search_nu('9637555901'))"
   ]
  },
  {
   "cell_type": "code",
   "execution_count": 13,
   "id": "69b5e75c",
   "metadata": {},
   "outputs": [
    {
     "name": "stdout",
     "output_type": "stream",
     "text": [
      "198.1.23.144\n"
     ]
    }
   ],
   "source": [
    "# Question 13- Write a Python program to remove leading zeros from an IP address\n",
    "ip = \"198.01.023.144\" \n",
    "str2 = re.sub('\\.[0]*', '.', ip) \n",
    "print(str2)"
   ]
  },
  {
   "cell_type": "code",
   "execution_count": 14,
   "id": "152809f0",
   "metadata": {},
   "outputs": [
    {
     "name": "stdout",
     "output_type": "stream",
     "text": [
      "March 16th 2015\n"
     ]
    }
   ],
   "source": [
    "# Question 14- Write a regular expression in python to match a date string in the form of Month name \n",
    "# followed by day number and year stored in a text file.\n",
    "\n",
    "text = \"i got my first job on March 16th 2015\"\n",
    "\n",
    "pattern = r\"\\b([A-Z][a-z]+ \\d{1,2}(?:st|nd|rd|th)? \\d{4})\\b\"\n",
    "\n",
    "matches = re.findall(pattern, text)\n",
    "date_string = matches[0] if matches else None\n",
    "\n",
    "print(date_string)"
   ]
  },
  {
   "cell_type": "code",
   "execution_count": 15,
   "id": "550b432b",
   "metadata": {},
   "outputs": [
    {
     "name": "stdout",
     "output_type": "stream",
     "text": [
      "Find match apple in apple banana cat dog egg fish.\n",
      "found\n",
      "Find match dog in apple banana cat dog egg fish.\n",
      "found\n",
      "Find match fish in apple banana cat dog egg fish.\n",
      "found\n"
     ]
    }
   ],
   "source": [
    "# Question 15- Write a Python program to search some literals strings in a string. \n",
    "\n",
    "import re\n",
    "patterns = [ 'apple', 'dog', 'fish' ]\n",
    "text = 'apple banana cat dog egg fish.'\n",
    "for i in patterns:\n",
    "    print(f'Find match {i} in {text}')\n",
    "    if re.search(i,  text):\n",
    "        print('found')\n",
    "    else:\n",
    "        print('Not found')"
   ]
  },
  {
   "cell_type": "code",
   "execution_count": 16,
   "id": "b99ecdbe",
   "metadata": {},
   "outputs": [
    {
     "name": "stdout",
     "output_type": "stream",
     "text": [
      "Found \"egg\" in \"apple banana cat dog egg fish.\" from 21 to 24 \n"
     ]
    }
   ],
   "source": [
    "# Question 16- Write a Python program to search a literals string in a string and \n",
    "# also find the location within the original string where the pattern occurs\n",
    "\n",
    "pattern = 'egg'\n",
    "text = 'apple banana cat dog egg fish.'\n",
    "match = re.search(pattern, text)\n",
    "s = match.start()\n",
    "e = match.end()\n",
    "print('Found \"%s\" in \"%s\" from %d to %d ' % (match.re.pattern, match.string, s, e))"
   ]
  },
  {
   "cell_type": "code",
   "execution_count": 17,
   "id": "7a679f3a",
   "metadata": {},
   "outputs": [
    {
     "name": "stdout",
     "output_type": "stream",
     "text": [
      "Found \"Saudar\"\n",
      "Found \"Saudar\"\n",
      "Found \"Saudar\"\n"
     ]
    }
   ],
   "source": [
    "# Question 17- Write a Python program to find the substrings within a string.\n",
    "\n",
    "text = 'Nirmal Saudar, Darshana Saudar, Ruturaj Saudar' \n",
    "pattern = 'Saudar' \n",
    "for match in re.findall(pattern, text):\n",
    "    print('Found \"%s\"' % match)"
   ]
  },
  {
   "cell_type": "code",
   "execution_count": 18,
   "id": "3a2e2647",
   "metadata": {},
   "outputs": [
    {
     "name": "stdout",
     "output_type": "stream",
     "text": [
      "Found \"Saudar\" at 7:13\n",
      "Found \"Saudar\" at 24:30\n",
      "Found \"Saudar\" at 40:46\n"
     ]
    }
   ],
   "source": [
    "# Question 18- Write a Python program to find the occurrence and position of the substrings within a string.\n",
    "\n",
    "text = 'Nirmal Saudar, Darshana Saudar, Ruturaj Saudar' \n",
    "pattern = 'Saudar' \n",
    "for i in re.finditer(pattern, text):\n",
    "    s = i.start()     \n",
    "    e = i.end()\n",
    "    print('Found \"%s\" at %d:%d' % (text[s:e], s, e))"
   ]
  },
  {
   "cell_type": "code",
   "execution_count": 19,
   "id": "59b0d543",
   "metadata": {},
   "outputs": [
    {
     "name": "stdout",
     "output_type": "stream",
     "text": [
      "Original date is 2026-01-02 and New date is 02-01-2026\n"
     ]
    }
   ],
   "source": [
    "# Question 19- Write a Python program to convert a date of yyyy-mm-dd format to dd-mm-yyyy format.\n",
    "\n",
    "def date_format(date):\n",
    "        return re.sub(r'(\\d{4})-(\\d{1,2})-(\\d{1,2})', '\\\\3-\\\\2-\\\\1', date)\n",
    "date1 = \"2026-01-02\"\n",
    "print(f\"Original date is {date1} and New date is {date_format(date1)}\")\n",
    "\n"
   ]
  },
  {
   "cell_type": "code",
   "execution_count": 20,
   "id": "bfd7f10d",
   "metadata": {},
   "outputs": [
    {
     "name": "stdout",
     "output_type": "stream",
     "text": [
      "['3.76', '2.88']\n"
     ]
    }
   ],
   "source": [
    "# Question 20- Create a function in python to find all decimal numbers with a precision of 1 or 2 in a string. \n",
    "# The use of the re.compile() method is mandatory.\n",
    "\n",
    "def deci_2terms(string):    \n",
    "    float_ = re.compile(r\"\\b([0-9]+\\.[0-9]{1,2})\\b\")   \n",
    "    output = float_.findall(text)   \n",
    "    print(output)  \n",
    "    \n",
    "text= \"7.8325 4.622 3.76 9.215 2.88\" \n",
    "deci_2terms(text)"
   ]
  },
  {
   "cell_type": "code",
   "execution_count": 21,
   "id": "1798eaab",
   "metadata": {},
   "outputs": [
    {
     "name": "stdout",
     "output_type": "stream",
     "text": [
      "1987\n",
      "Index position: 7 : 11\n",
      "1997\n",
      "Index position: 22 : 26\n",
      "2023\n",
      "Index position: 36 : 40\n"
     ]
    }
   ],
   "source": [
    "# Question 21- Write a Python program to separate and print the numbers and their position of a given string.\n",
    "\n",
    "text = \"Nirmal 1987, Darshana 1997, Ruturaj 2023\"\n",
    "\n",
    "for m in re.finditer(\"\\d+\", text):\n",
    "    print(m.group(0))     \n",
    "    print(\"Index position:\", m.start(),\":\",m.end()) "
   ]
  },
  {
   "cell_type": "code",
   "execution_count": 22,
   "id": "c8c92b62",
   "metadata": {},
   "outputs": [
    {
     "name": "stdout",
     "output_type": "stream",
     "text": [
      "['87', '63', '91', '79', '83']\n",
      "Maximum obtained by by sachin 91\n"
     ]
    }
   ],
   "source": [
    "# Question 22- Write a regular expression in python program to extract maximum/largest numeric value from a string.\n",
    "\n",
    "def Max_marks(input):\n",
    "    marks = re.findall('\\d+',input)\n",
    "    print(marks)      \n",
    "    marks = map(int,marks)\n",
    "    #converting each number from string into integer. \n",
    "    print (f\"Maximum obtained by by sachin {max(marks)}\")  \n",
    "    \n",
    "input = 'Marks of sachin in phy, chem, maths, bio, eng are respectively : 87,63,91,79,83' \n",
    "Max_marks(input)"
   ]
  },
  {
   "cell_type": "code",
   "execution_count": 23,
   "id": "caa903f6",
   "metadata": {},
   "outputs": [
    {
     "name": "stdout",
     "output_type": "stream",
     "text": [
      "Nirmal Sanjay Saudar\n"
     ]
    }
   ],
   "source": [
    "# Question 23- Create a function in python to insert spaces between words starting with capital letters.\n",
    "\n",
    "def Split_U(enter_text):\n",
    "    str1 = re.findall('[A-Z][a-z]*', enter_text)\n",
    "    print(' '.join(str1))  \n",
    "\n",
    "enter_text = 'NirmalSanjaySaudar' \n",
    "Split_U(enter_text)"
   ]
  },
  {
   "cell_type": "code",
   "execution_count": 24,
   "id": "c3e70633",
   "metadata": {},
   "outputs": [
    {
     "name": "stdout",
     "output_type": "stream",
     "text": [
      "Found a match!\n",
      "Found a match!\n"
     ]
    }
   ],
   "source": [
    "# Question 24- Python regex to find sequences of one upper case letter followed by lower case letters.\n",
    "\n",
    "import re\n",
    "def text_match(text):\n",
    "        patterns = '[A-Z]+[a-z]+$'\n",
    "        if re.search(patterns, text):\n",
    "                return 'Found a match!'\n",
    "        else:\n",
    "                return('Not matched!')\n",
    "            \n",
    "print(text_match(\"AaBbGg\"))\n",
    "print(text_match(\"Python\"))"
   ]
  },
  {
   "cell_type": "code",
   "execution_count": 25,
   "id": "29d87865",
   "metadata": {},
   "outputs": [
    {
     "name": "stdout",
     "output_type": "stream",
     "text": [
      "i am well doing\n"
     ]
    }
   ],
   "source": [
    "# Question 25- Write a Python program to remove continuous duplicate words from Sentence using Regular Expression.\n",
    "\n",
    "def uni_str(text):\n",
    "    pat = r'\\b(\\w+)(?:\\W+\\1\\b)+' \n",
    "    return re.sub(pat, r'\\1', text, flags=re.IGNORECASE)\n",
    "\n",
    "str1 = \"i i am am well well doing doing\"\n",
    "print(uni_str(str1))\n",
    "\n"
   ]
  },
  {
   "cell_type": "code",
   "execution_count": 26,
   "id": "22cb6ba8",
   "metadata": {},
   "outputs": [
    {
     "name": "stdout",
     "output_type": "stream",
     "text": [
      "The string is not ending with an alphanumeric character.\n"
     ]
    }
   ],
   "source": [
    "# Question 26-  Write a python program using RegEx to accept string ending with alphanumeric character.\n",
    "\n",
    "\n",
    "pattern = '[a-zA-z0-9]$'\n",
    "\n",
    "def al_num_end(string):\n",
    "    if(re.search(pattern, string)): \n",
    "        print(\"The string is ending with an alphanumeric character. \\n\")\n",
    "        \n",
    "    else:\n",
    "        print(\"The string is not ending with an alphanumeric character.\")   \n",
    "        \n",
    "\n",
    "al_num_end(\"saudar.nirmal@\")\n",
    "\n"
   ]
  },
  {
   "cell_type": "code",
   "execution_count": 27,
   "id": "2deaab25",
   "metadata": {},
   "outputs": [
    {
     "name": "stdout",
     "output_type": "stream",
     "text": [
      "inputs: \n",
      " @india, #corruption #unemplyoment @politics \n",
      "\n",
      " Hashtag:\n",
      " ['#corruption', '#unemplyoment']\n"
     ]
    }
   ],
   "source": [
    "# Question 27-Write a python program using RegEx to extract the hashtags.\n",
    "\n",
    "str4 = \"@india, #corruption #unemplyoment @politics \"\n",
    "\n",
    "hashtags = re.findall(r\"#\\w+\", str4)\n",
    "print(\"inputs: \\n\", str4) \n",
    "print(\"\\n Hashtag:\\n\", hashtags)"
   ]
  },
  {
   "cell_type": "code",
   "execution_count": 28,
   "id": "a0b67778",
   "metadata": {},
   "outputs": [
    {
     "name": "stdout",
     "output_type": "stream",
     "text": [
      "Text before:\n",
      " @Jags123456 Bharat band on 28??<ed><U+00A0><U+00BD><ed><U+00B8><U+0082>\n",
      "Those who are protesting #demonetization are all different party leaders\n",
      "\n",
      " Text after:\n",
      " @Jags123456 Bharat band on 28??<ed><ed>\n",
      "Those who are protesting #demonetization are all different party leaders\n"
     ]
    }
   ],
   "source": [
    "# Question 28- Write a python program using RegEx to remove <U+..> like symbols\n",
    "\n",
    "sample_text = '''@Jags123456 Bharat band on 28??<ed><U+00A0><U+00BD><ed><U+00B8><U+0082>\n",
    "Those who are protesting #demonetization are all different party leaders'''\n",
    "\n",
    "removed = re.sub(r\"<U\\+[A-Z0-9]+>\", \"\", sample_text)  \n",
    "\n",
    "print(\"Text before:\\n\", sample_text) \n",
    "\n",
    "print(\"\\n Text after:\\n\", removed)"
   ]
  },
  {
   "cell_type": "code",
   "execution_count": 29,
   "id": "2ceadefe",
   "metadata": {},
   "outputs": [
    {
     "name": "stdout",
     "output_type": "stream",
     "text": [
      "['25-06-2015', '16-03-2016']\n"
     ]
    }
   ],
   "source": [
    "# Question 29- Write a python program to extract dates from the text stored in the text file.\n",
    "import pandas as pd\n",
    "import re \n",
    "with open(r\"C:\\Users\\Asus\\OneDrive\\Desktop\\t.txt\") as file:\n",
    "    for line in file:\n",
    "        emails = re.findall(r\"\\d{2}-\\d{2}-\\d{4}\", line)\n",
    "        print(emails)\n"
   ]
  },
  {
   "cell_type": "code",
   "execution_count": 30,
   "id": "77de6dde",
   "metadata": {},
   "outputs": [
    {
     "name": "stdout",
     "output_type": "stream",
     "text": [
      "i  nirmal, i  a    \n"
     ]
    }
   ],
   "source": [
    "# Question 30- Create a function in python to remove all words from a string of length between 2 and 4.\n",
    "# The use of the re.compile() method is mandatory.\n",
    "\n",
    "def del_str(str1):\n",
    "    pattern = re.compile(r'\\b\\w{2,4}\\b')\n",
    "    print(pattern.sub('', text))  \n",
    "    \n",
    "text = \"i am nirmal, i want a kiwi to eat \"\n",
    "\n",
    "del_str(text)\n"
   ]
  },
  {
   "cell_type": "code",
   "execution_count": null,
   "id": "3575d43c",
   "metadata": {},
   "outputs": [],
   "source": []
  }
 ],
 "metadata": {
  "kernelspec": {
   "display_name": "Python 3 (ipykernel)",
   "language": "python",
   "name": "python3"
  },
  "language_info": {
   "codemirror_mode": {
    "name": "ipython",
    "version": 3
   },
   "file_extension": ".py",
   "mimetype": "text/x-python",
   "name": "python",
   "nbconvert_exporter": "python",
   "pygments_lexer": "ipython3",
   "version": "3.11.5"
  }
 },
 "nbformat": 4,
 "nbformat_minor": 5
}
