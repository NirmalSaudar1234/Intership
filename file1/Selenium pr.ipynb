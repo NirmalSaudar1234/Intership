{
 "cells": [
  {
   "cell_type": "code",
   "execution_count": 2,
   "id": "3bf0ec0a",
   "metadata": {},
   "outputs": [],
   "source": [
    "import selenium\n",
    "from selenium import webdriver\n",
    "import pandas as pd\n",
    "import warnings\n",
    "warnings.filterwarnings('ignore')\n",
    "from selenium.webdriver.common.by import By\n",
    "import time"
   ]
  },
  {
   "cell_type": "markdown",
   "id": "03b09e55",
   "metadata": {},
   "source": [
    "# Q1: Write a python program to scrape data for “Data Analyst” Job position in “Bangalore” location. \n",
    "## You have to scrape the job-title, job-location, company_name, experience_required. You have to scrape first 10 jobs data."
   ]
  },
  {
   "cell_type": "code",
   "execution_count": 3,
   "id": "4e9584c3",
   "metadata": {},
   "outputs": [],
   "source": [
    "# calling the automated chrome\n",
    "driver = webdriver.Chrome()"
   ]
  },
  {
   "cell_type": "code",
   "execution_count": 4,
   "id": "fd0ff47e",
   "metadata": {},
   "outputs": [],
   "source": [
    "# open the url of shine in the automated chrome\n",
    "driver.get('https://www.shine.com/')"
   ]
  },
  {
   "cell_type": "code",
   "execution_count": 93,
   "id": "68330d8e",
   "metadata": {},
   "outputs": [
    {
     "ename": "NoSuchElementException",
     "evalue": "Message: no such element: Unable to locate element: {\"method\":\"css selector\",\"selector\":\".form-control  \"}\n  (Session info: chrome=122.0.6261.95); For documentation on this error, please visit: https://www.selenium.dev/documentation/webdriver/troubleshooting/errors#no-such-element-exception\nStacktrace:\n\tGetHandleVerifier [0x00007FF72F1AAD22+56930]\n\t(No symbol) [0x00007FF72F11F622]\n\t(No symbol) [0x00007FF72EFD42E5]\n\t(No symbol) [0x00007FF72F0198ED]\n\t(No symbol) [0x00007FF72F019A2C]\n\t(No symbol) [0x00007FF72F05A967]\n\t(No symbol) [0x00007FF72F03BCDF]\n\t(No symbol) [0x00007FF72F0581E2]\n\t(No symbol) [0x00007FF72F03BA43]\n\t(No symbol) [0x00007FF72F00D438]\n\t(No symbol) [0x00007FF72F00E4D1]\n\tGetHandleVerifier [0x00007FF72F526AAD+3709933]\n\tGetHandleVerifier [0x00007FF72F57FFED+4075821]\n\tGetHandleVerifier [0x00007FF72F57817F+4043455]\n\tGetHandleVerifier [0x00007FF72F249756+706710]\n\t(No symbol) [0x00007FF72F12B8FF]\n\t(No symbol) [0x00007FF72F126AE4]\n\t(No symbol) [0x00007FF72F126C3C]\n\t(No symbol) [0x00007FF72F1168F4]\n\tBaseThreadInitThunk [0x00007FFEEAAF257D+29]\n\tRtlUserThreadStart [0x00007FFEEBE8AA58+40]\n",
     "output_type": "error",
     "traceback": [
      "\u001b[1;31m---------------------------------------------------------------------------\u001b[0m",
      "\u001b[1;31mNoSuchElementException\u001b[0m                    Traceback (most recent call last)",
      "Cell \u001b[1;32mIn[93], line 3\u001b[0m\n\u001b[0;32m      1\u001b[0m \u001b[38;5;66;03m# enter designation \u001b[39;00m\n\u001b[0;32m      2\u001b[0m \u001b[38;5;66;03m# find the input class not other class\u001b[39;00m\n\u001b[1;32m----> 3\u001b[0m job_designation\u001b[38;5;241m=\u001b[39mdriver\u001b[38;5;241m.\u001b[39mfind_element(By\u001b[38;5;241m.\u001b[39mCLASS_NAME,\u001b[38;5;124m\"\u001b[39m\u001b[38;5;124mform-control  \u001b[39m\u001b[38;5;124m\"\u001b[39m)\n\u001b[0;32m      4\u001b[0m job_designation\u001b[38;5;241m.\u001b[39msend_keys(\u001b[38;5;124m'\u001b[39m\u001b[38;5;124mData Analyst\u001b[39m\u001b[38;5;124m'\u001b[39m)\n",
      "File \u001b[1;32m~\\AppData\\Roaming\\Python\\Python311\\site-packages\\selenium\\webdriver\\remote\\webdriver.py:741\u001b[0m, in \u001b[0;36mWebDriver.find_element\u001b[1;34m(self, by, value)\u001b[0m\n\u001b[0;32m    738\u001b[0m     by \u001b[38;5;241m=\u001b[39m By\u001b[38;5;241m.\u001b[39mCSS_SELECTOR\n\u001b[0;32m    739\u001b[0m     value \u001b[38;5;241m=\u001b[39m \u001b[38;5;124mf\u001b[39m\u001b[38;5;124m'\u001b[39m\u001b[38;5;124m[name=\u001b[39m\u001b[38;5;124m\"\u001b[39m\u001b[38;5;132;01m{\u001b[39;00mvalue\u001b[38;5;132;01m}\u001b[39;00m\u001b[38;5;124m\"\u001b[39m\u001b[38;5;124m]\u001b[39m\u001b[38;5;124m'\u001b[39m\n\u001b[1;32m--> 741\u001b[0m \u001b[38;5;28;01mreturn\u001b[39;00m \u001b[38;5;28mself\u001b[39m\u001b[38;5;241m.\u001b[39mexecute(Command\u001b[38;5;241m.\u001b[39mFIND_ELEMENT, {\u001b[38;5;124m\"\u001b[39m\u001b[38;5;124musing\u001b[39m\u001b[38;5;124m\"\u001b[39m: by, \u001b[38;5;124m\"\u001b[39m\u001b[38;5;124mvalue\u001b[39m\u001b[38;5;124m\"\u001b[39m: value})[\u001b[38;5;124m\"\u001b[39m\u001b[38;5;124mvalue\u001b[39m\u001b[38;5;124m\"\u001b[39m]\n",
      "File \u001b[1;32m~\\AppData\\Roaming\\Python\\Python311\\site-packages\\selenium\\webdriver\\remote\\webdriver.py:347\u001b[0m, in \u001b[0;36mWebDriver.execute\u001b[1;34m(self, driver_command, params)\u001b[0m\n\u001b[0;32m    345\u001b[0m response \u001b[38;5;241m=\u001b[39m \u001b[38;5;28mself\u001b[39m\u001b[38;5;241m.\u001b[39mcommand_executor\u001b[38;5;241m.\u001b[39mexecute(driver_command, params)\n\u001b[0;32m    346\u001b[0m \u001b[38;5;28;01mif\u001b[39;00m response:\n\u001b[1;32m--> 347\u001b[0m     \u001b[38;5;28mself\u001b[39m\u001b[38;5;241m.\u001b[39merror_handler\u001b[38;5;241m.\u001b[39mcheck_response(response)\n\u001b[0;32m    348\u001b[0m     response[\u001b[38;5;124m\"\u001b[39m\u001b[38;5;124mvalue\u001b[39m\u001b[38;5;124m\"\u001b[39m] \u001b[38;5;241m=\u001b[39m \u001b[38;5;28mself\u001b[39m\u001b[38;5;241m.\u001b[39m_unwrap_value(response\u001b[38;5;241m.\u001b[39mget(\u001b[38;5;124m\"\u001b[39m\u001b[38;5;124mvalue\u001b[39m\u001b[38;5;124m\"\u001b[39m, \u001b[38;5;28;01mNone\u001b[39;00m))\n\u001b[0;32m    349\u001b[0m     \u001b[38;5;28;01mreturn\u001b[39;00m response\n",
      "File \u001b[1;32m~\\AppData\\Roaming\\Python\\Python311\\site-packages\\selenium\\webdriver\\remote\\errorhandler.py:229\u001b[0m, in \u001b[0;36mErrorHandler.check_response\u001b[1;34m(self, response)\u001b[0m\n\u001b[0;32m    227\u001b[0m         alert_text \u001b[38;5;241m=\u001b[39m value[\u001b[38;5;124m\"\u001b[39m\u001b[38;5;124malert\u001b[39m\u001b[38;5;124m\"\u001b[39m]\u001b[38;5;241m.\u001b[39mget(\u001b[38;5;124m\"\u001b[39m\u001b[38;5;124mtext\u001b[39m\u001b[38;5;124m\"\u001b[39m)\n\u001b[0;32m    228\u001b[0m     \u001b[38;5;28;01mraise\u001b[39;00m exception_class(message, screen, stacktrace, alert_text)  \u001b[38;5;66;03m# type: ignore[call-arg]  # mypy is not smart enough here\u001b[39;00m\n\u001b[1;32m--> 229\u001b[0m \u001b[38;5;28;01mraise\u001b[39;00m exception_class(message, screen, stacktrace)\n",
      "\u001b[1;31mNoSuchElementException\u001b[0m: Message: no such element: Unable to locate element: {\"method\":\"css selector\",\"selector\":\".form-control  \"}\n  (Session info: chrome=122.0.6261.95); For documentation on this error, please visit: https://www.selenium.dev/documentation/webdriver/troubleshooting/errors#no-such-element-exception\nStacktrace:\n\tGetHandleVerifier [0x00007FF72F1AAD22+56930]\n\t(No symbol) [0x00007FF72F11F622]\n\t(No symbol) [0x00007FF72EFD42E5]\n\t(No symbol) [0x00007FF72F0198ED]\n\t(No symbol) [0x00007FF72F019A2C]\n\t(No symbol) [0x00007FF72F05A967]\n\t(No symbol) [0x00007FF72F03BCDF]\n\t(No symbol) [0x00007FF72F0581E2]\n\t(No symbol) [0x00007FF72F03BA43]\n\t(No symbol) [0x00007FF72F00D438]\n\t(No symbol) [0x00007FF72F00E4D1]\n\tGetHandleVerifier [0x00007FF72F526AAD+3709933]\n\tGetHandleVerifier [0x00007FF72F57FFED+4075821]\n\tGetHandleVerifier [0x00007FF72F57817F+4043455]\n\tGetHandleVerifier [0x00007FF72F249756+706710]\n\t(No symbol) [0x00007FF72F12B8FF]\n\t(No symbol) [0x00007FF72F126AE4]\n\t(No symbol) [0x00007FF72F126C3C]\n\t(No symbol) [0x00007FF72F1168F4]\n\tBaseThreadInitThunk [0x00007FFEEAAF257D+29]\n\tRtlUserThreadStart [0x00007FFEEBE8AA58+40]\n"
     ]
    }
   ],
   "source": [
    "# enter designation \n",
    "# find the input class not other class\n",
    "job_designation=driver.find_element(By.CLASS_NAME,\"form-control  \")\n",
    "job_designation.send_keys('Data Analyst')"
   ]
  },
  {
   "cell_type": "code",
   "execution_count": 90,
   "id": "8527f7dc",
   "metadata": {},
   "outputs": [
    {
     "ename": "NoSuchElementException",
     "evalue": "Message: no such element: Unable to locate element: {\"method\":\"xpath\",\"selector\":\"/html/body/div/div[4]/div/div[2]/div[2]/div/form/div/div[1]/ul/li[2]/div/input\"}\n  (Session info: chrome=122.0.6261.95); For documentation on this error, please visit: https://www.selenium.dev/documentation/webdriver/troubleshooting/errors#no-such-element-exception\nStacktrace:\n\tGetHandleVerifier [0x00007FF72F1AAD22+56930]\n\t(No symbol) [0x00007FF72F11F622]\n\t(No symbol) [0x00007FF72EFD42E5]\n\t(No symbol) [0x00007FF72F0198ED]\n\t(No symbol) [0x00007FF72F019A2C]\n\t(No symbol) [0x00007FF72F05A967]\n\t(No symbol) [0x00007FF72F03BCDF]\n\t(No symbol) [0x00007FF72F0581E2]\n\t(No symbol) [0x00007FF72F03BA43]\n\t(No symbol) [0x00007FF72F00D438]\n\t(No symbol) [0x00007FF72F00E4D1]\n\tGetHandleVerifier [0x00007FF72F526AAD+3709933]\n\tGetHandleVerifier [0x00007FF72F57FFED+4075821]\n\tGetHandleVerifier [0x00007FF72F57817F+4043455]\n\tGetHandleVerifier [0x00007FF72F249756+706710]\n\t(No symbol) [0x00007FF72F12B8FF]\n\t(No symbol) [0x00007FF72F126AE4]\n\t(No symbol) [0x00007FF72F126C3C]\n\t(No symbol) [0x00007FF72F1168F4]\n\tBaseThreadInitThunk [0x00007FFEEAAF257D+29]\n\tRtlUserThreadStart [0x00007FFEEBE8AA58+40]\n",
     "output_type": "error",
     "traceback": [
      "\u001b[1;31m---------------------------------------------------------------------------\u001b[0m",
      "\u001b[1;31mNoSuchElementException\u001b[0m                    Traceback (most recent call last)",
      "Cell \u001b[1;32mIn[90], line 2\u001b[0m\n\u001b[0;32m      1\u001b[0m \u001b[38;5;66;03m# location by xpath\u001b[39;00m\n\u001b[1;32m----> 2\u001b[0m location \u001b[38;5;241m=\u001b[39m driver\u001b[38;5;241m.\u001b[39mfind_element(By\u001b[38;5;241m.\u001b[39mXPATH,\u001b[38;5;124m\"\u001b[39m\u001b[38;5;124m/html/body/div/div[4]/div/div[2]/div[2]/div/form/div/div[1]/ul/li[2]/div/input\u001b[39m\u001b[38;5;124m\"\u001b[39m)\n\u001b[0;32m      3\u001b[0m location\u001b[38;5;241m.\u001b[39msend_keys(\u001b[38;5;124m'\u001b[39m\u001b[38;5;124mBangalore\u001b[39m\u001b[38;5;124m'\u001b[39m)\n",
      "File \u001b[1;32m~\\AppData\\Roaming\\Python\\Python311\\site-packages\\selenium\\webdriver\\remote\\webdriver.py:741\u001b[0m, in \u001b[0;36mWebDriver.find_element\u001b[1;34m(self, by, value)\u001b[0m\n\u001b[0;32m    738\u001b[0m     by \u001b[38;5;241m=\u001b[39m By\u001b[38;5;241m.\u001b[39mCSS_SELECTOR\n\u001b[0;32m    739\u001b[0m     value \u001b[38;5;241m=\u001b[39m \u001b[38;5;124mf\u001b[39m\u001b[38;5;124m'\u001b[39m\u001b[38;5;124m[name=\u001b[39m\u001b[38;5;124m\"\u001b[39m\u001b[38;5;132;01m{\u001b[39;00mvalue\u001b[38;5;132;01m}\u001b[39;00m\u001b[38;5;124m\"\u001b[39m\u001b[38;5;124m]\u001b[39m\u001b[38;5;124m'\u001b[39m\n\u001b[1;32m--> 741\u001b[0m \u001b[38;5;28;01mreturn\u001b[39;00m \u001b[38;5;28mself\u001b[39m\u001b[38;5;241m.\u001b[39mexecute(Command\u001b[38;5;241m.\u001b[39mFIND_ELEMENT, {\u001b[38;5;124m\"\u001b[39m\u001b[38;5;124musing\u001b[39m\u001b[38;5;124m\"\u001b[39m: by, \u001b[38;5;124m\"\u001b[39m\u001b[38;5;124mvalue\u001b[39m\u001b[38;5;124m\"\u001b[39m: value})[\u001b[38;5;124m\"\u001b[39m\u001b[38;5;124mvalue\u001b[39m\u001b[38;5;124m\"\u001b[39m]\n",
      "File \u001b[1;32m~\\AppData\\Roaming\\Python\\Python311\\site-packages\\selenium\\webdriver\\remote\\webdriver.py:347\u001b[0m, in \u001b[0;36mWebDriver.execute\u001b[1;34m(self, driver_command, params)\u001b[0m\n\u001b[0;32m    345\u001b[0m response \u001b[38;5;241m=\u001b[39m \u001b[38;5;28mself\u001b[39m\u001b[38;5;241m.\u001b[39mcommand_executor\u001b[38;5;241m.\u001b[39mexecute(driver_command, params)\n\u001b[0;32m    346\u001b[0m \u001b[38;5;28;01mif\u001b[39;00m response:\n\u001b[1;32m--> 347\u001b[0m     \u001b[38;5;28mself\u001b[39m\u001b[38;5;241m.\u001b[39merror_handler\u001b[38;5;241m.\u001b[39mcheck_response(response)\n\u001b[0;32m    348\u001b[0m     response[\u001b[38;5;124m\"\u001b[39m\u001b[38;5;124mvalue\u001b[39m\u001b[38;5;124m\"\u001b[39m] \u001b[38;5;241m=\u001b[39m \u001b[38;5;28mself\u001b[39m\u001b[38;5;241m.\u001b[39m_unwrap_value(response\u001b[38;5;241m.\u001b[39mget(\u001b[38;5;124m\"\u001b[39m\u001b[38;5;124mvalue\u001b[39m\u001b[38;5;124m\"\u001b[39m, \u001b[38;5;28;01mNone\u001b[39;00m))\n\u001b[0;32m    349\u001b[0m     \u001b[38;5;28;01mreturn\u001b[39;00m response\n",
      "File \u001b[1;32m~\\AppData\\Roaming\\Python\\Python311\\site-packages\\selenium\\webdriver\\remote\\errorhandler.py:229\u001b[0m, in \u001b[0;36mErrorHandler.check_response\u001b[1;34m(self, response)\u001b[0m\n\u001b[0;32m    227\u001b[0m         alert_text \u001b[38;5;241m=\u001b[39m value[\u001b[38;5;124m\"\u001b[39m\u001b[38;5;124malert\u001b[39m\u001b[38;5;124m\"\u001b[39m]\u001b[38;5;241m.\u001b[39mget(\u001b[38;5;124m\"\u001b[39m\u001b[38;5;124mtext\u001b[39m\u001b[38;5;124m\"\u001b[39m)\n\u001b[0;32m    228\u001b[0m     \u001b[38;5;28;01mraise\u001b[39;00m exception_class(message, screen, stacktrace, alert_text)  \u001b[38;5;66;03m# type: ignore[call-arg]  # mypy is not smart enough here\u001b[39;00m\n\u001b[1;32m--> 229\u001b[0m \u001b[38;5;28;01mraise\u001b[39;00m exception_class(message, screen, stacktrace)\n",
      "\u001b[1;31mNoSuchElementException\u001b[0m: Message: no such element: Unable to locate element: {\"method\":\"xpath\",\"selector\":\"/html/body/div/div[4]/div/div[2]/div[2]/div/form/div/div[1]/ul/li[2]/div/input\"}\n  (Session info: chrome=122.0.6261.95); For documentation on this error, please visit: https://www.selenium.dev/documentation/webdriver/troubleshooting/errors#no-such-element-exception\nStacktrace:\n\tGetHandleVerifier [0x00007FF72F1AAD22+56930]\n\t(No symbol) [0x00007FF72F11F622]\n\t(No symbol) [0x00007FF72EFD42E5]\n\t(No symbol) [0x00007FF72F0198ED]\n\t(No symbol) [0x00007FF72F019A2C]\n\t(No symbol) [0x00007FF72F05A967]\n\t(No symbol) [0x00007FF72F03BCDF]\n\t(No symbol) [0x00007FF72F0581E2]\n\t(No symbol) [0x00007FF72F03BA43]\n\t(No symbol) [0x00007FF72F00D438]\n\t(No symbol) [0x00007FF72F00E4D1]\n\tGetHandleVerifier [0x00007FF72F526AAD+3709933]\n\tGetHandleVerifier [0x00007FF72F57FFED+4075821]\n\tGetHandleVerifier [0x00007FF72F57817F+4043455]\n\tGetHandleVerifier [0x00007FF72F249756+706710]\n\t(No symbol) [0x00007FF72F12B8FF]\n\t(No symbol) [0x00007FF72F126AE4]\n\t(No symbol) [0x00007FF72F126C3C]\n\t(No symbol) [0x00007FF72F1168F4]\n\tBaseThreadInitThunk [0x00007FFEEAAF257D+29]\n\tRtlUserThreadStart [0x00007FFEEBE8AA58+40]\n"
     ]
    }
   ],
   "source": [
    "# location by xpath\n",
    "location = driver.find_element(By.XPATH,\"/html/body/div/div[4]/div/div[2]/div[2]/div/form/div/div[1]/ul/li[2]/div/input\")\n",
    "location.send_keys('Bangalore')"
   ]
  },
  {
   "cell_type": "code",
   "execution_count": 16,
   "id": "446bc8b2",
   "metadata": {},
   "outputs": [],
   "source": [
    "# seach button to start the search"
   ]
  },
  {
   "cell_type": "code",
   "execution_count": 15,
   "id": "75d7570a",
   "metadata": {},
   "outputs": [],
   "source": [
    "search = driver.find_element(By.XPATH,\"/html/body/div/div[4]/div/div[2]/div[2]/div/form/div/div[2]/div/button\")\n",
    "search.click()"
   ]
  },
  {
   "cell_type": "code",
   "execution_count": 17,
   "id": "a916496f",
   "metadata": {},
   "outputs": [],
   "source": [
    "job_title=[]\n",
    "job_location=[]\n",
    "company_name=[]\n",
    "experience_required=[]\n"
   ]
  },
  {
   "cell_type": "code",
   "execution_count": 20,
   "id": "9589b022",
   "metadata": {},
   "outputs": [],
   "source": [
    "# scraping the requiure fileds\n",
    "\n",
    "title_tags = driver.find_elements(By.XPATH,'//div[@class=\"jobCard_jobCard__jjUmu active white-box-border jobCard\"]/div/h2/a') # parent class selected instead of child\n",
    "for i in title_tags:\n",
    "    title=i.text\n",
    "    job_title.append(title)\n",
    "    \n",
    "location_tags = driver.find_elements(By.XPATH,\" /html/body/div[1]/div[2]/div[4]/div/div[2]/div[1]/div/div[1]/div[1]/div[1]/div[1]/div[3]/div[2]\")  # child class selected\n",
    "for i in location_tags:\n",
    "    location=i.text\n",
    "    job_location.append(location)\n",
    "\n",
    "# in the code from web of company name there are rating and review heading also present so give index [1] at end of a[1]\n",
    "company_tags = driver.find_elements(By.XPATH,'//div[@class=\"jobCard_jobCard__jjUmu active white-box-border jobCard\"]/div/div/span')  # parent class selected\n",
    "for i in company_tags:\n",
    "    company=i.text\n",
    "    company_name.append(company)\n",
    "    \n",
    "experience_tags = driver.find_elements(By.XPATH,\" /html/body/div[1]/div[2]/div[4]/div/div[2]/div[1]/div/div[1]/div[1]/div[1]/div[1]/div[3]/div[1]\")  # child class selected\n",
    "for i in experience_tags:\n",
    "    experience=i.text\n",
    "    experience_required.append(experience)    \n",
    "\n",
    "df = pd.DataFrame(list(zip(job_title,job_location,company_name,experience_required)), columns=[\"Title\",\"Location\",\"Company\",\"Experience\"])\n",
    "print(df)"
   ]
  },
  {
   "cell_type": "code",
   "execution_count": 23,
   "id": "d13e4e7f",
   "metadata": {},
   "outputs": [
    {
     "name": "stdout",
     "output_type": "stream",
     "text": [
      "['Data Analyst', 'Data Analyst', 'Data Analyst'] ['Bangalore\\n+9', 'Bangalore\\n+9'] ['Hot', '0 days ago', 'sahast sales corporation', 'Not Interested', 'Hot', '0 days ago', 'sahast sales corporation', 'Not Interested'] ['12 to 22 Yrs']\n"
     ]
    }
   ],
   "source": [
    "print(job_title,job_location,company_name,experience_required)"
   ]
  },
  {
   "cell_type": "code",
   "execution_count": null,
   "id": "eac083dc",
   "metadata": {},
   "outputs": [],
   "source": []
  },
  {
   "cell_type": "code",
   "execution_count": null,
   "id": "8e48d254",
   "metadata": {},
   "outputs": [],
   "source": []
  },
  {
   "cell_type": "code",
   "execution_count": null,
   "id": "ae8f74fa",
   "metadata": {},
   "outputs": [],
   "source": []
  },
  {
   "cell_type": "markdown",
   "id": "29947c3e",
   "metadata": {},
   "source": [
    "# Q2: Write a python program to scrape data for ““Data Scientist” Job position in “Bangalore” location. \n",
    "## You have to scrape the job-title, job-location, company_name, experience_required. You have to scrape first 10 jobs data."
   ]
  },
  {
   "cell_type": "code",
   "execution_count": 45,
   "id": "68d88545",
   "metadata": {},
   "outputs": [],
   "source": [
    "import selenium\n",
    "from selenium import webdriver\n",
    "import pandas as pd\n",
    "import warnings\n",
    "warnings.filterwarnings('ignore')\n",
    "from selenium.webdriver.common.by import By"
   ]
  },
  {
   "cell_type": "code",
   "execution_count": 46,
   "id": "4b2ee4d0",
   "metadata": {},
   "outputs": [],
   "source": [
    "driver = webdriver.Chrome()"
   ]
  },
  {
   "cell_type": "code",
   "execution_count": 47,
   "id": "8785ef08",
   "metadata": {},
   "outputs": [],
   "source": [
    "# opening the naukri.com on automated page\n",
    "driver.get('https://www.naukri.com/')"
   ]
  },
  {
   "cell_type": "code",
   "execution_count": 48,
   "id": "a0b9fd1a",
   "metadata": {},
   "outputs": [],
   "source": [
    "# enter designation and location \n",
    "\n",
    "job_designation=driver.find_element(By.CLASS_NAME,\"suggestor-input\")\n",
    "job_designation.send_keys('Data Analyst')"
   ]
  },
  {
   "cell_type": "code",
   "execution_count": 49,
   "id": "cc99e598",
   "metadata": {},
   "outputs": [],
   "source": [
    "# location by xpath\n",
    "location = driver.find_element(By.XPATH,\"/html/body/div[1]/div[7]/div/div/div[5]/div/div/div/div[1]/div/input\")\n",
    "location.send_keys('Bangalore')"
   ]
  },
  {
   "cell_type": "code",
   "execution_count": 51,
   "id": "f88c3c42",
   "metadata": {},
   "outputs": [
    {
     "ename": "NoSuchElementException",
     "evalue": "Message: no such element: Unable to locate element: {\"method\":\"css selector\",\"selector\":\".qsbSubmit\"}\n  (Session info: chrome=122.0.6261.95); For documentation on this error, please visit: https://www.selenium.dev/documentation/webdriver/troubleshooting/errors#no-such-element-exception\nStacktrace:\n\tGetHandleVerifier [0x00007FF72F1AAD22+56930]\n\t(No symbol) [0x00007FF72F11F622]\n\t(No symbol) [0x00007FF72EFD42E5]\n\t(No symbol) [0x00007FF72F0198ED]\n\t(No symbol) [0x00007FF72F019A2C]\n\t(No symbol) [0x00007FF72F05A967]\n\t(No symbol) [0x00007FF72F03BCDF]\n\t(No symbol) [0x00007FF72F0581E2]\n\t(No symbol) [0x00007FF72F03BA43]\n\t(No symbol) [0x00007FF72F00D438]\n\t(No symbol) [0x00007FF72F00E4D1]\n\tGetHandleVerifier [0x00007FF72F526AAD+3709933]\n\tGetHandleVerifier [0x00007FF72F57FFED+4075821]\n\tGetHandleVerifier [0x00007FF72F57817F+4043455]\n\tGetHandleVerifier [0x00007FF72F249756+706710]\n\t(No symbol) [0x00007FF72F12B8FF]\n\t(No symbol) [0x00007FF72F126AE4]\n\t(No symbol) [0x00007FF72F126C3C]\n\t(No symbol) [0x00007FF72F1168F4]\n\tBaseThreadInitThunk [0x00007FFEEAAF257D+29]\n\tRtlUserThreadStart [0x00007FFEEBE8AA58+40]\n",
     "output_type": "error",
     "traceback": [
      "\u001b[1;31m---------------------------------------------------------------------------\u001b[0m",
      "\u001b[1;31mNoSuchElementException\u001b[0m                    Traceback (most recent call last)",
      "Cell \u001b[1;32mIn[51], line 1\u001b[0m\n\u001b[1;32m----> 1\u001b[0m search \u001b[38;5;241m=\u001b[39m driver\u001b[38;5;241m.\u001b[39mfind_element(By\u001b[38;5;241m.\u001b[39mCLASS_NAME,\u001b[38;5;124m\"\u001b[39m\u001b[38;5;124mqsbSubmit\u001b[39m\u001b[38;5;124m\"\u001b[39m)\n\u001b[0;32m      2\u001b[0m search\u001b[38;5;241m.\u001b[39mclick()\n",
      "File \u001b[1;32m~\\AppData\\Roaming\\Python\\Python311\\site-packages\\selenium\\webdriver\\remote\\webdriver.py:741\u001b[0m, in \u001b[0;36mWebDriver.find_element\u001b[1;34m(self, by, value)\u001b[0m\n\u001b[0;32m    738\u001b[0m     by \u001b[38;5;241m=\u001b[39m By\u001b[38;5;241m.\u001b[39mCSS_SELECTOR\n\u001b[0;32m    739\u001b[0m     value \u001b[38;5;241m=\u001b[39m \u001b[38;5;124mf\u001b[39m\u001b[38;5;124m'\u001b[39m\u001b[38;5;124m[name=\u001b[39m\u001b[38;5;124m\"\u001b[39m\u001b[38;5;132;01m{\u001b[39;00mvalue\u001b[38;5;132;01m}\u001b[39;00m\u001b[38;5;124m\"\u001b[39m\u001b[38;5;124m]\u001b[39m\u001b[38;5;124m'\u001b[39m\n\u001b[1;32m--> 741\u001b[0m \u001b[38;5;28;01mreturn\u001b[39;00m \u001b[38;5;28mself\u001b[39m\u001b[38;5;241m.\u001b[39mexecute(Command\u001b[38;5;241m.\u001b[39mFIND_ELEMENT, {\u001b[38;5;124m\"\u001b[39m\u001b[38;5;124musing\u001b[39m\u001b[38;5;124m\"\u001b[39m: by, \u001b[38;5;124m\"\u001b[39m\u001b[38;5;124mvalue\u001b[39m\u001b[38;5;124m\"\u001b[39m: value})[\u001b[38;5;124m\"\u001b[39m\u001b[38;5;124mvalue\u001b[39m\u001b[38;5;124m\"\u001b[39m]\n",
      "File \u001b[1;32m~\\AppData\\Roaming\\Python\\Python311\\site-packages\\selenium\\webdriver\\remote\\webdriver.py:347\u001b[0m, in \u001b[0;36mWebDriver.execute\u001b[1;34m(self, driver_command, params)\u001b[0m\n\u001b[0;32m    345\u001b[0m response \u001b[38;5;241m=\u001b[39m \u001b[38;5;28mself\u001b[39m\u001b[38;5;241m.\u001b[39mcommand_executor\u001b[38;5;241m.\u001b[39mexecute(driver_command, params)\n\u001b[0;32m    346\u001b[0m \u001b[38;5;28;01mif\u001b[39;00m response:\n\u001b[1;32m--> 347\u001b[0m     \u001b[38;5;28mself\u001b[39m\u001b[38;5;241m.\u001b[39merror_handler\u001b[38;5;241m.\u001b[39mcheck_response(response)\n\u001b[0;32m    348\u001b[0m     response[\u001b[38;5;124m\"\u001b[39m\u001b[38;5;124mvalue\u001b[39m\u001b[38;5;124m\"\u001b[39m] \u001b[38;5;241m=\u001b[39m \u001b[38;5;28mself\u001b[39m\u001b[38;5;241m.\u001b[39m_unwrap_value(response\u001b[38;5;241m.\u001b[39mget(\u001b[38;5;124m\"\u001b[39m\u001b[38;5;124mvalue\u001b[39m\u001b[38;5;124m\"\u001b[39m, \u001b[38;5;28;01mNone\u001b[39;00m))\n\u001b[0;32m    349\u001b[0m     \u001b[38;5;28;01mreturn\u001b[39;00m response\n",
      "File \u001b[1;32m~\\AppData\\Roaming\\Python\\Python311\\site-packages\\selenium\\webdriver\\remote\\errorhandler.py:229\u001b[0m, in \u001b[0;36mErrorHandler.check_response\u001b[1;34m(self, response)\u001b[0m\n\u001b[0;32m    227\u001b[0m         alert_text \u001b[38;5;241m=\u001b[39m value[\u001b[38;5;124m\"\u001b[39m\u001b[38;5;124malert\u001b[39m\u001b[38;5;124m\"\u001b[39m]\u001b[38;5;241m.\u001b[39mget(\u001b[38;5;124m\"\u001b[39m\u001b[38;5;124mtext\u001b[39m\u001b[38;5;124m\"\u001b[39m)\n\u001b[0;32m    228\u001b[0m     \u001b[38;5;28;01mraise\u001b[39;00m exception_class(message, screen, stacktrace, alert_text)  \u001b[38;5;66;03m# type: ignore[call-arg]  # mypy is not smart enough here\u001b[39;00m\n\u001b[1;32m--> 229\u001b[0m \u001b[38;5;28;01mraise\u001b[39;00m exception_class(message, screen, stacktrace)\n",
      "\u001b[1;31mNoSuchElementException\u001b[0m: Message: no such element: Unable to locate element: {\"method\":\"css selector\",\"selector\":\".qsbSubmit\"}\n  (Session info: chrome=122.0.6261.95); For documentation on this error, please visit: https://www.selenium.dev/documentation/webdriver/troubleshooting/errors#no-such-element-exception\nStacktrace:\n\tGetHandleVerifier [0x00007FF72F1AAD22+56930]\n\t(No symbol) [0x00007FF72F11F622]\n\t(No symbol) [0x00007FF72EFD42E5]\n\t(No symbol) [0x00007FF72F0198ED]\n\t(No symbol) [0x00007FF72F019A2C]\n\t(No symbol) [0x00007FF72F05A967]\n\t(No symbol) [0x00007FF72F03BCDF]\n\t(No symbol) [0x00007FF72F0581E2]\n\t(No symbol) [0x00007FF72F03BA43]\n\t(No symbol) [0x00007FF72F00D438]\n\t(No symbol) [0x00007FF72F00E4D1]\n\tGetHandleVerifier [0x00007FF72F526AAD+3709933]\n\tGetHandleVerifier [0x00007FF72F57FFED+4075821]\n\tGetHandleVerifier [0x00007FF72F57817F+4043455]\n\tGetHandleVerifier [0x00007FF72F249756+706710]\n\t(No symbol) [0x00007FF72F12B8FF]\n\t(No symbol) [0x00007FF72F126AE4]\n\t(No symbol) [0x00007FF72F126C3C]\n\t(No symbol) [0x00007FF72F1168F4]\n\tBaseThreadInitThunk [0x00007FFEEAAF257D+29]\n\tRtlUserThreadStart [0x00007FFEEBE8AA58+40]\n"
     ]
    }
   ],
   "source": [
    "search = driver.find_element(By.CLASS_NAME,\"qsbSubmit\")\n",
    "search.click()"
   ]
  },
  {
   "cell_type": "code",
   "execution_count": 52,
   "id": "0b9cd1c7",
   "metadata": {},
   "outputs": [],
   "source": [
    "job_title=[]\n",
    "job_location=[]\n",
    "company_name=[]\n",
    "experience_required=[]\n"
   ]
  },
  {
   "cell_type": "code",
   "execution_count": 53,
   "id": "ae7527b5",
   "metadata": {},
   "outputs": [],
   "source": [
    "# scraping the requiure fileds\n",
    "\n",
    "title_tags = driver.find_elements(By.XPATH,'//div[@class=\"cust-job-tuple layout-wrapper lay-2 sjw__tuple \"]/div/a') # parent class selected instead of child\n",
    "for i in title_tags[0:10]:\n",
    "    title=i.text\n",
    "    job_title.append(title)\n",
    "    \n",
    "location_tags = driver.find_elements(By.XPATH,'//span[@class=\"locWdth\"]')  # child class selected\n",
    "for i in location_tags[0:10]:\n",
    "    location=i.text\n",
    "    job_location.append(location)\n",
    "\n",
    "# in the code from web of company name there are rating and review heading also present so give index [1] at end of a[1]\n",
    "company_tags = driver.find_elements(By.XPATH,'//div[@class=\" row2\"]/span/a[1]')  # parent class selected\n",
    "for i in company_tags[0:10]:\n",
    "    company=i.text\n",
    "    company_name.append(company)\n",
    "    \n",
    "experience_tags = driver.find_elements(By.XPATH,'//span[@class=\"expwdth\"]')  # child class selected\n",
    "for i in experience_tags[0:10]:\n",
    "    experience=i.text\n",
    "    experience_required.append(experience)    \n",
    "\n",
    "\n",
    "\n"
   ]
  },
  {
   "cell_type": "code",
   "execution_count": 54,
   "id": "b928b648",
   "metadata": {},
   "outputs": [
    {
     "name": "stdout",
     "output_type": "stream",
     "text": [
      "10 10 10 10\n"
     ]
    }
   ],
   "source": [
    "print(len(job_title),len(job_location),len(company_name),len(experience_required))"
   ]
  },
  {
   "cell_type": "code",
   "execution_count": 55,
   "id": "41793820",
   "metadata": {},
   "outputs": [
    {
     "data": {
      "text/html": [
       "<div>\n",
       "<style scoped>\n",
       "    .dataframe tbody tr th:only-of-type {\n",
       "        vertical-align: middle;\n",
       "    }\n",
       "\n",
       "    .dataframe tbody tr th {\n",
       "        vertical-align: top;\n",
       "    }\n",
       "\n",
       "    .dataframe thead th {\n",
       "        text-align: right;\n",
       "    }\n",
       "</style>\n",
       "<table border=\"1\" class=\"dataframe\">\n",
       "  <thead>\n",
       "    <tr style=\"text-align: right;\">\n",
       "      <th></th>\n",
       "      <th>Job_Title</th>\n",
       "      <th>Location</th>\n",
       "      <th>Company_Name</th>\n",
       "      <th>Experience_R</th>\n",
       "    </tr>\n",
       "  </thead>\n",
       "  <tbody>\n",
       "    <tr>\n",
       "      <th>0</th>\n",
       "      <td>Data Analyst</td>\n",
       "      <td>Bengaluru</td>\n",
       "      <td>Target</td>\n",
       "      <td>2-4 Yrs</td>\n",
       "    </tr>\n",
       "    <tr>\n",
       "      <th>1</th>\n",
       "      <td>Data Analyst</td>\n",
       "      <td>Mumbai, Bengaluru</td>\n",
       "      <td>FedEx TSCS (India) Pvt Ltd</td>\n",
       "      <td>1-4 Yrs</td>\n",
       "    </tr>\n",
       "    <tr>\n",
       "      <th>2</th>\n",
       "      <td>FP&amp;A Data Analyst</td>\n",
       "      <td>Pune, Bengaluru</td>\n",
       "      <td>Alphawave SEMI</td>\n",
       "      <td>2-5 Yrs</td>\n",
       "    </tr>\n",
       "    <tr>\n",
       "      <th>3</th>\n",
       "      <td>Data Analyst</td>\n",
       "      <td>Remote</td>\n",
       "      <td>Puresoftware</td>\n",
       "      <td>5-10 Yrs</td>\n",
       "    </tr>\n",
       "    <tr>\n",
       "      <th>4</th>\n",
       "      <td>Data Analyst</td>\n",
       "      <td>Hybrid - Bangalore Rural, Karnataka, Hyderabad...</td>\n",
       "      <td>Tsit Digital Technologies</td>\n",
       "      <td>5-10 Yrs</td>\n",
       "    </tr>\n",
       "    <tr>\n",
       "      <th>5</th>\n",
       "      <td>Data Analyst</td>\n",
       "      <td>Bengaluru(4th Phase JP Nagar)</td>\n",
       "      <td>Objectwin Technology</td>\n",
       "      <td>1-5 Yrs</td>\n",
       "    </tr>\n",
       "    <tr>\n",
       "      <th>6</th>\n",
       "      <td>Data Analyst(Python , Pyspark )_ MNC</td>\n",
       "      <td>Hybrid - Bengaluru(Electronic City)</td>\n",
       "      <td>MNC (Permanent Role )</td>\n",
       "      <td>7-12 Yrs</td>\n",
       "    </tr>\n",
       "    <tr>\n",
       "      <th>7</th>\n",
       "      <td>Job opportunity _ Data Analyst</td>\n",
       "      <td>Bangalore Rural, Karnataka, Hyderabad, Telanga...</td>\n",
       "      <td>Talent Sketchers</td>\n",
       "      <td>6-10 Yrs</td>\n",
       "    </tr>\n",
       "    <tr>\n",
       "      <th>8</th>\n",
       "      <td>Data Sourcing &amp; Triage Analyst</td>\n",
       "      <td>Bengaluru</td>\n",
       "      <td>Janes</td>\n",
       "      <td>0-3 Yrs</td>\n",
       "    </tr>\n",
       "    <tr>\n",
       "      <th>9</th>\n",
       "      <td>Online Data Analyst</td>\n",
       "      <td>Kolkata, Mumbai, New Delhi, Hyderabad, Pune, C...</td>\n",
       "      <td>TELUS International</td>\n",
       "      <td>1-4 Yrs</td>\n",
       "    </tr>\n",
       "  </tbody>\n",
       "</table>\n",
       "</div>"
      ],
      "text/plain": [
       "                              Job_Title  \\\n",
       "0                          Data Analyst   \n",
       "1                          Data Analyst   \n",
       "2                     FP&A Data Analyst   \n",
       "3                          Data Analyst   \n",
       "4                          Data Analyst   \n",
       "5                          Data Analyst   \n",
       "6  Data Analyst(Python , Pyspark )_ MNC   \n",
       "7        Job opportunity _ Data Analyst   \n",
       "8        Data Sourcing & Triage Analyst   \n",
       "9                   Online Data Analyst   \n",
       "\n",
       "                                            Location  \\\n",
       "0                                          Bengaluru   \n",
       "1                                  Mumbai, Bengaluru   \n",
       "2                                    Pune, Bengaluru   \n",
       "3                                             Remote   \n",
       "4  Hybrid - Bangalore Rural, Karnataka, Hyderabad...   \n",
       "5                      Bengaluru(4th Phase JP Nagar)   \n",
       "6                Hybrid - Bengaluru(Electronic City)   \n",
       "7  Bangalore Rural, Karnataka, Hyderabad, Telanga...   \n",
       "8                                          Bengaluru   \n",
       "9  Kolkata, Mumbai, New Delhi, Hyderabad, Pune, C...   \n",
       "\n",
       "                 Company_Name Experience_R  \n",
       "0                      Target      2-4 Yrs  \n",
       "1  FedEx TSCS (India) Pvt Ltd      1-4 Yrs  \n",
       "2              Alphawave SEMI      2-5 Yrs  \n",
       "3                Puresoftware     5-10 Yrs  \n",
       "4   Tsit Digital Technologies     5-10 Yrs  \n",
       "5        Objectwin Technology      1-5 Yrs  \n",
       "6       MNC (Permanent Role )     7-12 Yrs  \n",
       "7            Talent Sketchers     6-10 Yrs  \n",
       "8                       Janes      0-3 Yrs  \n",
       "9         TELUS International      1-4 Yrs  "
      ]
     },
     "execution_count": 55,
     "metadata": {},
     "output_type": "execute_result"
    }
   ],
   "source": [
    "import pandas as pd\n",
    "\n",
    "df = pd.DataFrame({'Job_Title':job_title,'Location':job_location,'Company_Name':company_name,'Experience_R':experience_required})\n",
    "\n",
    "df"
   ]
  },
  {
   "cell_type": "code",
   "execution_count": null,
   "id": "14eb006e",
   "metadata": {},
   "outputs": [],
   "source": []
  },
  {
   "cell_type": "markdown",
   "id": "01764fe9",
   "metadata": {},
   "source": [
    "# Q3: Scrape data of first 100 sunglasses listings on flipkart.com. You have to scrape four attributes:\n",
    "\n",
    "### 1. Brand 2. ProductDescription 3. Price \n"
   ]
  },
  {
   "cell_type": "code",
   "execution_count": 74,
   "id": "40e06a33",
   "metadata": {},
   "outputs": [],
   "source": [
    "import selenium\n",
    "from selenium import webdriver\n",
    "import pandas as pd\n",
    "import warnings\n",
    "warnings.filterwarnings('ignore')\n",
    "from selenium.webdriver.common.by import By"
   ]
  },
  {
   "cell_type": "code",
   "execution_count": 75,
   "id": "f4979883",
   "metadata": {},
   "outputs": [],
   "source": [
    "driver = webdriver.Chrome()"
   ]
  },
  {
   "cell_type": "code",
   "execution_count": 76,
   "id": "17d95024",
   "metadata": {},
   "outputs": [],
   "source": [
    "# opening the webpage url on automated page\n",
    "driver.get('https://www.flipkart.com/')"
   ]
  },
  {
   "cell_type": "code",
   "execution_count": 77,
   "id": "3560ae38",
   "metadata": {},
   "outputs": [],
   "source": [
    "# search sunglasses \n",
    "Sunglasses=driver.find_element(By.XPATH,\"/html/body/div[1]/div/div[1]/div/div/div/div/div[1]/div/div[1]/div/div[1]/div[1]/header/div[1]/div[2]/form/div/div/input\")\n",
    "Sunglasses.send_keys('Sunglasses')"
   ]
  },
  {
   "cell_type": "code",
   "execution_count": 78,
   "id": "0d38cc4c",
   "metadata": {},
   "outputs": [],
   "source": [
    "search = driver.find_element(By.XPATH,\"/html/body/div[1]/div/div[1]/div/div/div/div/div[1]/div/div[1]/div/div[1]/div[1]/header/div[1]/div[2]/form/div/button\")\n",
    "search.click()"
   ]
  },
  {
   "cell_type": "code",
   "execution_count": 79,
   "id": "83e7d01f",
   "metadata": {},
   "outputs": [],
   "source": [
    "Brand_Name=[]\n",
    "Product_De=[]\n",
    "Price=[]"
   ]
  },
  {
   "cell_type": "code",
   "execution_count": 86,
   "id": "1ac5e5b2",
   "metadata": {},
   "outputs": [
    {
     "name": "stdout",
     "output_type": "stream",
     "text": [
      "             Brand                                    Product_Details Price\n",
      "0    VINCENT CHASE  by Lenskart UV Protection Wayfarer Sunglasses ...  ₹523\n",
      "1    VINCENT CHASE  by Lenskart UV Protection Clubmaster Sunglasse...  ₹749\n",
      "2         Fastrack             UV Protection Wayfarer Sunglasses (58)  ₹599\n",
      "3             SRPM             UV Protection Wayfarer Sunglasses (50)  ₹169\n",
      "4        Elligator   UV Protection, Mirrored Wayfarer Sunglasses (52)  ₹169\n",
      "..             ...                                                ...   ...\n",
      "115         PIRASO           UV Protection Over-sized Sunglasses (65)  ₹259\n",
      "116         Hooper             UV Protection Wayfarer Sunglasses (45)  ₹596\n",
      "117      ROYAL SON  Polarized, UV Protection Retro Square Sunglass...  ₹974\n",
      "118       Fastrack              UV Protection Aviator Sunglasses (58)  ₹629\n",
      "119      Elligator             UV Protection Wayfarer Sunglasses (52)  ₹199\n",
      "\n",
      "[120 rows x 3 columns]\n"
     ]
    }
   ],
   "source": [
    "# scraping the requiure fileds\n",
    "\n",
    "\n",
    "    \n",
    "Brand = driver.find_elements(By.CLASS_NAME,\"_2WkVRV\") # parent class selected instead of child\n",
    "for i in Brand[0:100]:\n",
    "    Brand=i.text\n",
    "    Brand_Name.append(Brand)\n",
    "    \n",
    "Pro = driver.find_elements(By.CLASS_NAME,\"IRpwTa\") # parent class selected instead of child\n",
    "for i in Pro[0:100]:\n",
    "    Pro=i.text\n",
    "    Product_De.append(Pro)\n",
    "    \n",
    "\n",
    "Pri = driver.find_elements(By.CLASS_NAME,\"_30jeq3\") # parent class selected instead of child\n",
    "for i in Pri[0:100]:\n",
    "    Pri=i.text\n",
    "    Price.append(Pri)    \n",
    "    \n",
    "\n",
    "df = pd.DataFrame(list(zip(Brand_Name,Product_De,Price)), columns=[\"Brand\",\"Product_Details\",\"Price\"])\n",
    "print(df)"
   ]
  },
  {
   "cell_type": "code",
   "execution_count": null,
   "id": "7f955744",
   "metadata": {},
   "outputs": [],
   "source": []
  }
 ],
 "metadata": {
  "kernelspec": {
   "display_name": "Python 3 (ipykernel)",
   "language": "python",
   "name": "python3"
  },
  "language_info": {
   "codemirror_mode": {
    "name": "ipython",
    "version": 3
   },
   "file_extension": ".py",
   "mimetype": "text/x-python",
   "name": "python",
   "nbconvert_exporter": "python",
   "pygments_lexer": "ipython3",
   "version": "3.11.5"
  }
 },
 "nbformat": 4,
 "nbformat_minor": 5
}
